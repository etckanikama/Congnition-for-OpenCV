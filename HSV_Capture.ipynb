{
 "cells": [
  {
   "cell_type": "code",
   "execution_count": 9,
   "metadata": {},
   "outputs": [],
   "source": [
    "import cv2\n",
    "import numpy as np"
   ]
  },
  {
   "cell_type": "code",
   "execution_count": 10,
   "metadata": {},
   "outputs": [],
   "source": [
    "def green_detect(img):\n",
    "    # HSV色空間に変換\n",
    "    hsv = cv2.cvtColor(img, cv2.COLOR_BGR2HSV)\n",
    "\n",
    "    # みどりのHSVしきい値\n",
    "    hsv_min = np.array([36,0,0])\n",
    "    hsv_max = np.array([86,255,255])\n",
    "    # mask(しきい値)　=cv2.inRange(img, lower, higher)\n",
    "    mask = cv2.inRange(hsv, hsv_min, hsv_max)\n",
    "    return mask\n",
    "\n",
    "    \"\"\"\n",
    "    参考リンク\n",
    "    hsvから画像の編集まで（main）= https://algorithm.joho.info/programming/python/opencv-color-tracking-py/\n",
    "\n",
    "    greenのhsv値 = https://stackoverflow.com/questions/47483951/how-to-define-a-threshold-value-to-detect-only-green-colour-objects-in-an-image\n",
    "\n",
    "\n",
    "\n",
    "    inRangeの使い方\n",
    "\n",
    "    dst = cv2.inRange(src, lowerb, upperb[, dst])\n",
    "    引数\n",
    "\n",
    "    src: 入力画像\n",
    "    lowerb: 下限\n",
    "    upperb: 上限\n",
    "    返り値\n",
    "\n",
    "    dst: 出力画像\n",
    "\n",
    "\n",
    "\n",
    "    \"\"\"\n",
    "\n",
    "def main():\n",
    "    img = cv2.imread(r\"C:\\Users\\hirayama\\src\\opencv_sample\\Mproject\\tmp\\himawari.png\")\n",
    "    # 緑色検出\n",
    "    mask = green_detect(img)\n",
    "    cv2.imshow('img',img)\n",
    "    # mask画像の表示\n",
    "    cv2.imshow(\"mask\", mask)\n",
    "    # if cv2.waitKey(25) & 0xFF == ord('q'):\n",
    "    #     break\n",
    "    cv2.waitKey(0)\n",
    "    cv2.destroyAllWindows()\n",
    "\n",
    "if __name__ == '__main__':\n",
    "    main()"
   ]
  },
  {
   "cell_type": "code",
   "execution_count": null,
   "metadata": {},
   "outputs": [],
   "source": []
  }
 ],
 "metadata": {
  "kernelspec": {
   "display_name": "Python 3",
   "language": "python",
   "name": "python3"
  },
  "language_info": {
   "codemirror_mode": {
    "name": "ipython",
    "version": 3
   },
   "file_extension": ".py",
   "mimetype": "text/x-python",
   "name": "python",
   "nbconvert_exporter": "python",
   "pygments_lexer": "ipython3",
   "version": "3.7.4-final"
  }
 },
 "nbformat": 4,
 "nbformat_minor": 2
}